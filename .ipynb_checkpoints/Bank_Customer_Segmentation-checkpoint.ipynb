{
 "cells": [
  {
   "cell_type": "markdown",
   "id": "254cddac",
   "metadata": {},
   "source": [
    "# Bank Customers Segmentation\n",
    "\n",
    "The bank currently faces the challenge of delivering personalized experiences to its diverse customer base. This project aims to address this challenge by developing a robust customer segmentation framework. By analyzing a comprehensive dataset of 1 Million+ transactions, we will identify distinct customer segments with unique characteristics and needs. These insights will enable the bank to personalize product offerings, tailor marketing campaigns, and improve customer service, ultimately enhancing customer satisfaction and driving business growth."
   ]
  },
  {
   "cell_type": "code",
   "execution_count": 1,
   "id": "295e3ed1",
   "metadata": {},
   "outputs": [],
   "source": [
    "# load libraries\n",
    "import pandas as pd\n",
    "import matplotlib.pyplot as plt\n",
    "%matplotlib inline\n",
    "import seaborn as sns\n",
    "import plotly.express as px\n",
    "\n",
    "import warnings\n",
    "warnings.filterwarnings('ignore')"
   ]
  },
  {
   "cell_type": "code",
   "execution_count": 2,
   "id": "3d83e71f",
   "metadata": {},
   "outputs": [
    {
     "data": {
      "text/html": [
       "<div>\n",
       "<style scoped>\n",
       "    .dataframe tbody tr th:only-of-type {\n",
       "        vertical-align: middle;\n",
       "    }\n",
       "\n",
       "    .dataframe tbody tr th {\n",
       "        vertical-align: top;\n",
       "    }\n",
       "\n",
       "    .dataframe thead th {\n",
       "        text-align: right;\n",
       "    }\n",
       "</style>\n",
       "<table border=\"1\" class=\"dataframe\">\n",
       "  <thead>\n",
       "    <tr style=\"text-align: right;\">\n",
       "      <th></th>\n",
       "      <th>TransactionID</th>\n",
       "      <th>CustomerID</th>\n",
       "      <th>CustomerDOB</th>\n",
       "      <th>CustGender</th>\n",
       "      <th>CustLocation</th>\n",
       "      <th>CustAccountBalance</th>\n",
       "      <th>TransactionDate</th>\n",
       "      <th>TransactionTime</th>\n",
       "      <th>TransactionAmount (INR)</th>\n",
       "    </tr>\n",
       "  </thead>\n",
       "  <tbody>\n",
       "    <tr>\n",
       "      <th>118728</th>\n",
       "      <td>T118729</td>\n",
       "      <td>C8642527</td>\n",
       "      <td>24/11/94</td>\n",
       "      <td>F</td>\n",
       "      <td>DELHI</td>\n",
       "      <td>2492.72</td>\n",
       "      <td>6/8/16</td>\n",
       "      <td>150503</td>\n",
       "      <td>899.00</td>\n",
       "    </tr>\n",
       "    <tr>\n",
       "      <th>376473</th>\n",
       "      <td>T376474</td>\n",
       "      <td>C6725773</td>\n",
       "      <td>27/5/87</td>\n",
       "      <td>F</td>\n",
       "      <td>KHANNA</td>\n",
       "      <td>18640.27</td>\n",
       "      <td>13/8/16</td>\n",
       "      <td>102549</td>\n",
       "      <td>836.28</td>\n",
       "    </tr>\n",
       "    <tr>\n",
       "      <th>441098</th>\n",
       "      <td>T441099</td>\n",
       "      <td>C4020713</td>\n",
       "      <td>4/4/87</td>\n",
       "      <td>M</td>\n",
       "      <td>MUMBAI</td>\n",
       "      <td>12455.12</td>\n",
       "      <td>16/8/16</td>\n",
       "      <td>143128</td>\n",
       "      <td>500.00</td>\n",
       "    </tr>\n",
       "    <tr>\n",
       "      <th>883010</th>\n",
       "      <td>T883011</td>\n",
       "      <td>C1432461</td>\n",
       "      <td>15/6/91</td>\n",
       "      <td>M</td>\n",
       "      <td>JAIPUR</td>\n",
       "      <td>13828.11</td>\n",
       "      <td>7/9/16</td>\n",
       "      <td>231801</td>\n",
       "      <td>300.00</td>\n",
       "    </tr>\n",
       "    <tr>\n",
       "      <th>615095</th>\n",
       "      <td>T615096</td>\n",
       "      <td>C9023649</td>\n",
       "      <td>13/2/93</td>\n",
       "      <td>F</td>\n",
       "      <td>MUMBAI</td>\n",
       "      <td>140671.10</td>\n",
       "      <td>26/8/16</td>\n",
       "      <td>110137</td>\n",
       "      <td>2724.00</td>\n",
       "    </tr>\n",
       "  </tbody>\n",
       "</table>\n",
       "</div>"
      ],
      "text/plain": [
       "       TransactionID CustomerID CustomerDOB CustGender CustLocation  \\\n",
       "118728       T118729   C8642527    24/11/94          F        DELHI   \n",
       "376473       T376474   C6725773     27/5/87          F       KHANNA   \n",
       "441098       T441099   C4020713      4/4/87          M       MUMBAI   \n",
       "883010       T883011   C1432461     15/6/91          M       JAIPUR   \n",
       "615095       T615096   C9023649     13/2/93          F       MUMBAI   \n",
       "\n",
       "        CustAccountBalance TransactionDate  TransactionTime  \\\n",
       "118728             2492.72          6/8/16           150503   \n",
       "376473            18640.27         13/8/16           102549   \n",
       "441098            12455.12         16/8/16           143128   \n",
       "883010            13828.11          7/9/16           231801   \n",
       "615095           140671.10         26/8/16           110137   \n",
       "\n",
       "        TransactionAmount (INR)  \n",
       "118728                   899.00  \n",
       "376473                   836.28  \n",
       "441098                   500.00  \n",
       "883010                   300.00  \n",
       "615095                  2724.00  "
      ]
     },
     "execution_count": 2,
     "metadata": {},
     "output_type": "execute_result"
    }
   ],
   "source": [
    "# load data and view 5 random rows\n",
    "df = pd.read_csv('bank_transactions.csv')\n",
    "df.sample(5)"
   ]
  },
  {
   "cell_type": "code",
   "execution_count": 3,
   "id": "c2ec9890",
   "metadata": {
    "scrolled": true
   },
   "outputs": [
    {
     "name": "stdout",
     "output_type": "stream",
     "text": [
      "<class 'pandas.core.frame.DataFrame'>\n",
      "RangeIndex: 1048567 entries, 0 to 1048566\n",
      "Data columns (total 9 columns):\n",
      " #   Column                   Non-Null Count    Dtype  \n",
      "---  ------                   --------------    -----  \n",
      " 0   TransactionID            1048567 non-null  object \n",
      " 1   CustomerID               1048567 non-null  object \n",
      " 2   CustomerDOB              1045170 non-null  object \n",
      " 3   CustGender               1047467 non-null  object \n",
      " 4   CustLocation             1048416 non-null  object \n",
      " 5   CustAccountBalance       1046198 non-null  float64\n",
      " 6   TransactionDate          1048567 non-null  object \n",
      " 7   TransactionTime          1048567 non-null  int64  \n",
      " 8   TransactionAmount (INR)  1048567 non-null  float64\n",
      "dtypes: float64(2), int64(1), object(6)\n",
      "memory usage: 72.0+ MB\n"
     ]
    }
   ],
   "source": [
    "# view dataset general features\n",
    "df.info()"
   ]
  },
  {
   "cell_type": "code",
   "execution_count": 4,
   "id": "498c52b4",
   "metadata": {},
   "outputs": [
    {
     "data": {
      "text/plain": [
       "TransactionID                 0\n",
       "CustomerID                    0\n",
       "CustomerDOB                3397\n",
       "CustGender                 1100\n",
       "CustLocation                151\n",
       "CustAccountBalance         2369\n",
       "TransactionDate               0\n",
       "TransactionTime               0\n",
       "TransactionAmount (INR)       0\n",
       "dtype: int64"
      ]
     },
     "execution_count": 4,
     "metadata": {},
     "output_type": "execute_result"
    }
   ],
   "source": [
    "# view missing values\n",
    "df.isna().sum()"
   ]
  },
  {
   "cell_type": "code",
   "execution_count": 5,
   "id": "f41452bc",
   "metadata": {},
   "outputs": [
    {
     "data": {
      "text/html": [
       "<div>\n",
       "<style scoped>\n",
       "    .dataframe tbody tr th:only-of-type {\n",
       "        vertical-align: middle;\n",
       "    }\n",
       "\n",
       "    .dataframe tbody tr th {\n",
       "        vertical-align: top;\n",
       "    }\n",
       "\n",
       "    .dataframe thead th {\n",
       "        text-align: right;\n",
       "    }\n",
       "</style>\n",
       "<table border=\"1\" class=\"dataframe\">\n",
       "  <thead>\n",
       "    <tr style=\"text-align: right;\">\n",
       "      <th></th>\n",
       "      <th>TransactionID</th>\n",
       "      <th>CustomerID</th>\n",
       "      <th>CustomerDOB</th>\n",
       "      <th>CustGender</th>\n",
       "      <th>CustLocation</th>\n",
       "      <th>CustAccountBalance</th>\n",
       "      <th>TransactionDate</th>\n",
       "      <th>TransactionTime</th>\n",
       "      <th>TransactionAmount (INR)</th>\n",
       "    </tr>\n",
       "  </thead>\n",
       "  <tbody>\n",
       "  </tbody>\n",
       "</table>\n",
       "</div>"
      ],
      "text/plain": [
       "Empty DataFrame\n",
       "Columns: [TransactionID, CustomerID, CustomerDOB, CustGender, CustLocation, CustAccountBalance, TransactionDate, TransactionTime, TransactionAmount (INR)]\n",
       "Index: []"
      ]
     },
     "execution_count": 5,
     "metadata": {},
     "output_type": "execute_result"
    }
   ],
   "source": [
    "# view duplicates\n",
    "df[df.duplicated() == 1]"
   ]
  },
  {
   "cell_type": "code",
   "execution_count": 6,
   "id": "f8c870bc",
   "metadata": {},
   "outputs": [
    {
     "name": "stdout",
     "output_type": "stream",
     "text": [
      "884265\n",
      "1048567\n"
     ]
    }
   ],
   "source": [
    "print(df['CustomerID'].nunique())\n",
    "print(df['TransactionID'].nunique())"
   ]
  },
  {
   "cell_type": "code",
   "execution_count": 7,
   "id": "d0dd8afa",
   "metadata": {},
   "outputs": [
    {
     "data": {
      "text/plain": [
       "CustGender\n",
       "M    765530\n",
       "F    281936\n",
       "T         1\n",
       "Name: count, dtype: int64"
      ]
     },
     "execution_count": 7,
     "metadata": {},
     "output_type": "execute_result"
    }
   ],
   "source": [
    "# view unique genders\n",
    "df['CustGender'].value_counts()"
   ]
  },
  {
   "cell_type": "code",
   "execution_count": 8,
   "id": "ee0d9a1c",
   "metadata": {},
   "outputs": [
    {
     "data": {
      "text/plain": [
       "9355"
      ]
     },
     "execution_count": 8,
     "metadata": {},
     "output_type": "execute_result"
    }
   ],
   "source": [
    "# view number of unique locations\n",
    "df['CustLocation'].nunique()"
   ]
  },
  {
   "cell_type": "markdown",
   "id": "e57d3727",
   "metadata": {},
   "source": [
    "*The approach to handle missing data includes:*\n",
    "\n",
    "1. Dropping rows where there are null values in the 'CustGender', 'CustomerDOB', and 'CustAccountBalance' columns to maintain data quality.\n",
    "\n",
    "2. Filling missing values in 'CustLocation' by backfilling (using the next row's value).\n",
    "3. Removing erroneous gender values where 'CustGender' contains a gender entry 'T', which will be dropped to ensure accurate gender classification.\n",
    "4. Convert the `TransactionDate` to date format.\n",
    "5. Drop the `TransactionTime` column since the time format was not specified, pandas cannot infer for conversion."
   ]
  },
  {
   "cell_type": "code",
   "execution_count": 9,
   "id": "7fe87623",
   "metadata": {},
   "outputs": [
    {
     "data": {
      "text/plain": [
       "TransactionID              0\n",
       "CustomerID                 0\n",
       "CustomerDOB                0\n",
       "CustGender                 0\n",
       "CustLocation               0\n",
       "CustAccountBalance         0\n",
       "TransactionDate            0\n",
       "TransactionAmount (INR)    0\n",
       "dtype: int64"
      ]
     },
     "execution_count": 9,
     "metadata": {},
     "output_type": "execute_result"
    }
   ],
   "source": [
    "# Remove rows with null values in 'CustGender', 'CustomerDOB', and 'CustAccountBalance'\n",
    "data = df.dropna(subset=['CustGender', 'CustomerDOB', 'CustAccountBalance'])\n",
    "\n",
    "# Drop rows where 'CustGender' is 'T' (incorrect gender value)\n",
    "data = data[data['CustGender'] != 'T']\n",
    "\n",
    "# Fill null values in 'CustLocation' with the value from the next row (below)\n",
    "data['CustLocation'] = data['CustLocation'].fillna(method='bfill')\n",
    "\n",
    "# drop TransactionTime column\n",
    "data.drop(columns='TransactionTime', inplace=True)\n",
    "\n",
    "data.isna().sum()"
   ]
  },
  {
   "cell_type": "code",
   "execution_count": 10,
   "id": "553fb2e9",
   "metadata": {},
   "outputs": [],
   "source": [
    "# Convert 'TransactionDate' to date format\n",
    "data['TransactionDate'] = pd.to_datetime(data['TransactionDate'], infer_datetime_format=True)\n",
    "\n",
    "# Convert 'CustomerDOB' to date format\n",
    "data['CustomerDOB'] = pd.to_datetime(data['CustomerDOB'], infer_datetime_format=True)"
   ]
  },
  {
   "cell_type": "code",
   "execution_count": 11,
   "id": "db640344",
   "metadata": {
    "scrolled": true
   },
   "outputs": [
    {
     "data": {
      "text/html": [
       "<div>\n",
       "<style scoped>\n",
       "    .dataframe tbody tr th:only-of-type {\n",
       "        vertical-align: middle;\n",
       "    }\n",
       "\n",
       "    .dataframe tbody tr th {\n",
       "        vertical-align: top;\n",
       "    }\n",
       "\n",
       "    .dataframe thead th {\n",
       "        text-align: right;\n",
       "    }\n",
       "</style>\n",
       "<table border=\"1\" class=\"dataframe\">\n",
       "  <thead>\n",
       "    <tr style=\"text-align: right;\">\n",
       "      <th></th>\n",
       "      <th>TransactionID</th>\n",
       "      <th>CustomerID</th>\n",
       "      <th>CustomerDOB</th>\n",
       "      <th>CustGender</th>\n",
       "      <th>CustLocation</th>\n",
       "      <th>CustAccountBalance</th>\n",
       "      <th>TransactionDate</th>\n",
       "      <th>TransactionAmount (INR)</th>\n",
       "    </tr>\n",
       "  </thead>\n",
       "  <tbody>\n",
       "    <tr>\n",
       "      <th>0</th>\n",
       "      <td>T1</td>\n",
       "      <td>C5841053</td>\n",
       "      <td>1994-10-01</td>\n",
       "      <td>F</td>\n",
       "      <td>JAMSHEDPUR</td>\n",
       "      <td>17819.05</td>\n",
       "      <td>2016-02-08</td>\n",
       "      <td>25.0</td>\n",
       "    </tr>\n",
       "    <tr>\n",
       "      <th>1</th>\n",
       "      <td>T2</td>\n",
       "      <td>C2142763</td>\n",
       "      <td>2057-04-04</td>\n",
       "      <td>M</td>\n",
       "      <td>JHAJJAR</td>\n",
       "      <td>2270.69</td>\n",
       "      <td>2016-02-08</td>\n",
       "      <td>27999.0</td>\n",
       "    </tr>\n",
       "    <tr>\n",
       "      <th>2</th>\n",
       "      <td>T3</td>\n",
       "      <td>C4417068</td>\n",
       "      <td>1996-11-26</td>\n",
       "      <td>F</td>\n",
       "      <td>MUMBAI</td>\n",
       "      <td>17874.44</td>\n",
       "      <td>2016-02-08</td>\n",
       "      <td>459.0</td>\n",
       "    </tr>\n",
       "    <tr>\n",
       "      <th>3</th>\n",
       "      <td>T4</td>\n",
       "      <td>C5342380</td>\n",
       "      <td>2073-09-14</td>\n",
       "      <td>F</td>\n",
       "      <td>MUMBAI</td>\n",
       "      <td>866503.21</td>\n",
       "      <td>2016-02-08</td>\n",
       "      <td>2060.0</td>\n",
       "    </tr>\n",
       "    <tr>\n",
       "      <th>4</th>\n",
       "      <td>T5</td>\n",
       "      <td>C9031234</td>\n",
       "      <td>1988-03-24</td>\n",
       "      <td>F</td>\n",
       "      <td>NAVI MUMBAI</td>\n",
       "      <td>6714.43</td>\n",
       "      <td>2016-02-08</td>\n",
       "      <td>1762.5</td>\n",
       "    </tr>\n",
       "  </tbody>\n",
       "</table>\n",
       "</div>"
      ],
      "text/plain": [
       "  TransactionID CustomerID CustomerDOB CustGender CustLocation  \\\n",
       "0            T1   C5841053  1994-10-01          F   JAMSHEDPUR   \n",
       "1            T2   C2142763  2057-04-04          M      JHAJJAR   \n",
       "2            T3   C4417068  1996-11-26          F       MUMBAI   \n",
       "3            T4   C5342380  2073-09-14          F       MUMBAI   \n",
       "4            T5   C9031234  1988-03-24          F  NAVI MUMBAI   \n",
       "\n",
       "   CustAccountBalance TransactionDate  TransactionAmount (INR)  \n",
       "0            17819.05      2016-02-08                     25.0  \n",
       "1             2270.69      2016-02-08                  27999.0  \n",
       "2            17874.44      2016-02-08                    459.0  \n",
       "3           866503.21      2016-02-08                   2060.0  \n",
       "4             6714.43      2016-02-08                   1762.5  "
      ]
     },
     "execution_count": 11,
     "metadata": {},
     "output_type": "execute_result"
    }
   ],
   "source": [
    "data.head()"
   ]
  },
  {
   "cell_type": "code",
   "execution_count": 12,
   "id": "c1abc67a",
   "metadata": {},
   "outputs": [
    {
     "name": "stdout",
     "output_type": "stream",
     "text": [
      "<class 'pandas.core.frame.DataFrame'>\n",
      "Index: 1041764 entries, 0 to 1048566\n",
      "Data columns (total 8 columns):\n",
      " #   Column                   Non-Null Count    Dtype         \n",
      "---  ------                   --------------    -----         \n",
      " 0   TransactionID            1041764 non-null  object        \n",
      " 1   CustomerID               1041764 non-null  object        \n",
      " 2   CustomerDOB              1041764 non-null  datetime64[ns]\n",
      " 3   CustGender               1041764 non-null  object        \n",
      " 4   CustLocation             1041764 non-null  object        \n",
      " 5   CustAccountBalance       1041764 non-null  float64       \n",
      " 6   TransactionDate          1041764 non-null  datetime64[ns]\n",
      " 7   TransactionAmount (INR)  1041764 non-null  float64       \n",
      "dtypes: datetime64[ns](2), float64(2), object(4)\n",
      "memory usage: 71.5+ MB\n"
     ]
    }
   ],
   "source": [
    "data.info()"
   ]
  },
  {
   "cell_type": "code",
   "execution_count": 13,
   "id": "15150dd3",
   "metadata": {
    "scrolled": false
   },
   "outputs": [
    {
     "data": {
      "image/png": "[encoded data removed]",
      "text/plain": [
       "<Figure size 640x480 with 1 Axes>"
      ]
     },
     "metadata": {},
     "output_type": "display_data"
    }
   ],
   "source": [
    "# view 10 locations with most customers\n",
    "top10_locations = df['CustLocation'].value_counts().head(10)\n",
    "top10_locations.plot(kind='bar')\n",
    "plt.title('Top 10 Customer Locations')\n",
    "plt.xlabel('Location')\n",
    "plt.ylabel('Number of Customers')\n",
    "plt.show()"
   ]
  },
  {
   "cell_type": "markdown",
   "id": "775c4ec9",
   "metadata": {},
   "source": [
    "# Feature engineering\n",
    "- Add the following columns;\n",
    "    - `Age` - age of the custumer based on current year\n",
    "    - `Ave_Transaction` - Average transaction of each customer\n",
    "    - `Transaction_frequency` - Group transactions by `CustomerID` to calculate the number of transactions"
   ]
  },
  {
   "cell_type": "code",
   "execution_count": 14,
   "id": "47e161ef",
   "metadata": {},
   "outputs": [
    {
     "data": {
      "text/html": [
       "<div>\n",
       "<style scoped>\n",
       "    .dataframe tbody tr th:only-of-type {\n",
       "        vertical-align: middle;\n",
       "    }\n",
       "\n",
       "    .dataframe tbody tr th {\n",
       "        vertical-align: top;\n",
       "    }\n",
       "\n",
       "    .dataframe thead th {\n",
       "        text-align: right;\n",
       "    }\n",
       "</style>\n",
       "<table border=\"1\" class=\"dataframe\">\n",
       "  <thead>\n",
       "    <tr style=\"text-align: right;\">\n",
       "      <th></th>\n",
       "      <th>TransactionID</th>\n",
       "      <th>CustomerID</th>\n",
       "      <th>CustomerDOB</th>\n",
       "      <th>CustGender</th>\n",
       "      <th>CustLocation</th>\n",
       "      <th>CustAccountBalance</th>\n",
       "      <th>TransactionDate</th>\n",
       "      <th>TransactionAmount (INR)</th>\n",
       "      <th>CustomerAge</th>\n",
       "    </tr>\n",
       "  </thead>\n",
       "  <tbody>\n",
       "    <tr>\n",
       "      <th>0</th>\n",
       "      <td>T1</td>\n",
       "      <td>C5841053</td>\n",
       "      <td>1994-10-01</td>\n",
       "      <td>F</td>\n",
       "      <td>JAMSHEDPUR</td>\n",
       "      <td>17819.05</td>\n",
       "      <td>2016-02-08</td>\n",
       "      <td>25.0</td>\n",
       "      <td>31</td>\n",
       "    </tr>\n",
       "    <tr>\n",
       "      <th>1</th>\n",
       "      <td>T2</td>\n",
       "      <td>C2142763</td>\n",
       "      <td>2057-04-04</td>\n",
       "      <td>M</td>\n",
       "      <td>JHAJJAR</td>\n",
       "      <td>2270.69</td>\n",
       "      <td>2016-02-08</td>\n",
       "      <td>27999.0</td>\n",
       "      <td>-32</td>\n",
       "    </tr>\n",
       "    <tr>\n",
       "      <th>2</th>\n",
       "      <td>T3</td>\n",
       "      <td>C4417068</td>\n",
       "      <td>1996-11-26</td>\n",
       "      <td>F</td>\n",
       "      <td>MUMBAI</td>\n",
       "      <td>17874.44</td>\n",
       "      <td>2016-02-08</td>\n",
       "      <td>459.0</td>\n",
       "      <td>29</td>\n",
       "    </tr>\n",
       "    <tr>\n",
       "      <th>3</th>\n",
       "      <td>T4</td>\n",
       "      <td>C5342380</td>\n",
       "      <td>2073-09-14</td>\n",
       "      <td>F</td>\n",
       "      <td>MUMBAI</td>\n",
       "      <td>866503.21</td>\n",
       "      <td>2016-02-08</td>\n",
       "      <td>2060.0</td>\n",
       "      <td>-48</td>\n",
       "    </tr>\n",
       "    <tr>\n",
       "      <th>4</th>\n",
       "      <td>T5</td>\n",
       "      <td>C9031234</td>\n",
       "      <td>1988-03-24</td>\n",
       "      <td>F</td>\n",
       "      <td>NAVI MUMBAI</td>\n",
       "      <td>6714.43</td>\n",
       "      <td>2016-02-08</td>\n",
       "      <td>1762.5</td>\n",
       "      <td>37</td>\n",
       "    </tr>\n",
       "  </tbody>\n",
       "</table>\n",
       "</div>"
      ],
      "text/plain": [
       "  TransactionID CustomerID CustomerDOB CustGender CustLocation  \\\n",
       "0            T1   C5841053  1994-10-01          F   JAMSHEDPUR   \n",
       "1            T2   C2142763  2057-04-04          M      JHAJJAR   \n",
       "2            T3   C4417068  1996-11-26          F       MUMBAI   \n",
       "3            T4   C5342380  2073-09-14          F       MUMBAI   \n",
       "4            T5   C9031234  1988-03-24          F  NAVI MUMBAI   \n",
       "\n",
       "   CustAccountBalance TransactionDate  TransactionAmount (INR)  CustomerAge  \n",
       "0            17819.05      2016-02-08                     25.0           31  \n",
       "1             2270.69      2016-02-08                  27999.0          -32  \n",
       "2            17874.44      2016-02-08                    459.0           29  \n",
       "3           866503.21      2016-02-08                   2060.0          -48  \n",
       "4             6714.43      2016-02-08                   1762.5           37  "
      ]
     },
     "execution_count": 14,
     "metadata": {},
     "output_type": "execute_result"
    }
   ],
   "source": [
    "# add 'CustomerAge' column\n",
    "from datetime import datetime\n",
    "data['CustomerAge'] = data['CustomerDOB'].apply(lambda x: datetime.now().year - pd.to_datetime(x).year)\n",
    "\n",
    "# add 'AvgTransaction'\n",
    "# Group by CustomerID to calculate average transaction amount\n",
    "customer_summary = data.groupby('CustomerID').agg({\n",
    "    'TransactionAmount (INR)': 'mean',\n",
    "    'TransactionID': 'count'\n",
    "}).rename(columns={\n",
    "    'TransactionAmount (INR)': 'AvgTransactionAmount',\n",
    "    'TransactionID': 'TransactionFrequency'\n",
    "})\n",
    "\n",
    "# Reset index for easier access\n",
    "customer_summary = customer_summary.reset_index()\n",
    "\n",
    "data.head()"
   ]
  },
  {
   "cell_type": "code",
   "execution_count": 15,
   "id": "c4e2fc27",
   "metadata": {},
   "outputs": [
    {
     "name": "stdout",
     "output_type": "stream",
     "text": [
      "<class 'pandas.core.frame.DataFrame'>\n",
      "Index: 1041764 entries, 0 to 1048566\n",
      "Data columns (total 9 columns):\n",
      " #   Column                   Non-Null Count    Dtype         \n",
      "---  ------                   --------------    -----         \n",
      " 0   TransactionID            1041764 non-null  object        \n",
      " 1   CustomerID               1041764 non-null  object        \n",
      " 2   CustomerDOB              1041764 non-null  datetime64[ns]\n",
      " 3   CustGender               1041764 non-null  object        \n",
      " 4   CustLocation             1041764 non-null  object        \n",
      " 5   CustAccountBalance       1041764 non-null  float64       \n",
      " 6   TransactionDate          1041764 non-null  datetime64[ns]\n",
      " 7   TransactionAmount (INR)  1041764 non-null  float64       \n",
      " 8   CustomerAge              1041764 non-null  int64         \n",
      "dtypes: datetime64[ns](2), float64(2), int64(1), object(4)\n",
      "memory usage: 79.5+ MB\n"
     ]
    }
   ],
   "source": [
    "data.info()"
   ]
  },
  {
   "cell_type": "markdown",
   "id": "18046f60",
   "metadata": {},
   "source": [
    "### Normalize the features"
   ]
  },
  {
   "cell_type": "code",
   "execution_count": 16,
   "id": "db54cf50",
   "metadata": {},
   "outputs": [
    {
     "data": {
      "text/html": [
       "<div>\n",
       "<style scoped>\n",
       "    .dataframe tbody tr th:only-of-type {\n",
       "        vertical-align: middle;\n",
       "    }\n",
       "\n",
       "    .dataframe tbody tr th {\n",
       "        vertical-align: top;\n",
       "    }\n",
       "\n",
       "    .dataframe thead th {\n",
       "        text-align: right;\n",
       "    }\n",
       "</style>\n",
       "<table border=\"1\" class=\"dataframe\">\n",
       "  <thead>\n",
       "    <tr style=\"text-align: right;\">\n",
       "      <th></th>\n",
       "      <th>TransactionID</th>\n",
       "      <th>CustomerID</th>\n",
       "      <th>CustomerDOB</th>\n",
       "      <th>CustGender</th>\n",
       "      <th>CustLocation</th>\n",
       "      <th>CustAccountBalance</th>\n",
       "      <th>TransactionDate</th>\n",
       "      <th>TransactionAmount (INR)</th>\n",
       "      <th>CustomerAge</th>\n",
       "    </tr>\n",
       "  </thead>\n",
       "  <tbody>\n",
       "    <tr>\n",
       "      <th>0</th>\n",
       "      <td>T1</td>\n",
       "      <td>C5841053</td>\n",
       "      <td>1994-10-01</td>\n",
       "      <td>F</td>\n",
       "      <td>JAMSHEDPUR</td>\n",
       "      <td>-0.114770</td>\n",
       "      <td>2016-02-08</td>\n",
       "      <td>-0.234883</td>\n",
       "      <td>-0.177898</td>\n",
       "    </tr>\n",
       "    <tr>\n",
       "      <th>1</th>\n",
       "      <td>T2</td>\n",
       "      <td>C2142763</td>\n",
       "      <td>2057-04-04</td>\n",
       "      <td>M</td>\n",
       "      <td>JHAJJAR</td>\n",
       "      <td>-0.133134</td>\n",
       "      <td>2016-02-08</td>\n",
       "      <td>4.028776</td>\n",
       "      <td>-1.429014</td>\n",
       "    </tr>\n",
       "    <tr>\n",
       "      <th>2</th>\n",
       "      <td>T3</td>\n",
       "      <td>C4417068</td>\n",
       "      <td>1996-11-26</td>\n",
       "      <td>F</td>\n",
       "      <td>MUMBAI</td>\n",
       "      <td>-0.114705</td>\n",
       "      <td>2016-02-08</td>\n",
       "      <td>-0.168734</td>\n",
       "      <td>-0.217616</td>\n",
       "    </tr>\n",
       "    <tr>\n",
       "      <th>3</th>\n",
       "      <td>T4</td>\n",
       "      <td>C5342380</td>\n",
       "      <td>2073-09-14</td>\n",
       "      <td>F</td>\n",
       "      <td>MUMBAI</td>\n",
       "      <td>0.887572</td>\n",
       "      <td>2016-02-08</td>\n",
       "      <td>0.075282</td>\n",
       "      <td>-1.746758</td>\n",
       "    </tr>\n",
       "    <tr>\n",
       "      <th>4</th>\n",
       "      <td>T5</td>\n",
       "      <td>C9031234</td>\n",
       "      <td>1988-03-24</td>\n",
       "      <td>F</td>\n",
       "      <td>NAVI MUMBAI</td>\n",
       "      <td>-0.127886</td>\n",
       "      <td>2016-02-08</td>\n",
       "      <td>0.029939</td>\n",
       "      <td>-0.058744</td>\n",
       "    </tr>\n",
       "  </tbody>\n",
       "</table>\n",
       "</div>"
      ],
      "text/plain": [
       "  TransactionID CustomerID CustomerDOB CustGender CustLocation  \\\n",
       "0            T1   C5841053  1994-10-01          F   JAMSHEDPUR   \n",
       "1            T2   C2142763  2057-04-04          M      JHAJJAR   \n",
       "2            T3   C4417068  1996-11-26          F       MUMBAI   \n",
       "3            T4   C5342380  2073-09-14          F       MUMBAI   \n",
       "4            T5   C9031234  1988-03-24          F  NAVI MUMBAI   \n",
       "\n",
       "   CustAccountBalance TransactionDate  TransactionAmount (INR)  CustomerAge  \n",
       "0           -0.114770      2016-02-08                -0.234883    -0.177898  \n",
       "1           -0.133134      2016-02-08                 4.028776    -1.429014  \n",
       "2           -0.114705      2016-02-08                -0.168734    -0.217616  \n",
       "3            0.887572      2016-02-08                 0.075282    -1.746758  \n",
       "4           -0.127886      2016-02-08                 0.029939    -0.058744  "
      ]
     },
     "execution_count": 16,
     "metadata": {},
     "output_type": "execute_result"
    }
   ],
   "source": [
    "# Import the StandardScaler\n",
    "from sklearn.preprocessing import StandardScaler\n",
    "\n",
    "# Define the columns to normalize\n",
    "features_to_normalize = ['TransactionAmount (INR)', 'CustAccountBalance', 'CustomerAge']\n",
    "\n",
    "# Initialize the scaler\n",
    "scaler = StandardScaler()\n",
    "\n",
    "# Apply scaling to the selected features\n",
    "data[features_to_normalize] = scaler.fit_transform(data[features_to_normalize])\n",
    "\n",
    "# Display the first few rows of the updated dataframe\n",
    "data.head()"
   ]
  },
  {
   "cell_type": "code",
   "execution_count": 17,
   "id": "71786a22",
   "metadata": {},
   "outputs": [
    {
     "data": {
      "text/html": [
       "<div>\n",
       "<style scoped>\n",
       "    .dataframe tbody tr th:only-of-type {\n",
       "        vertical-align: middle;\n",
       "    }\n",
       "\n",
       "    .dataframe tbody tr th {\n",
       "        vertical-align: top;\n",
       "    }\n",
       "\n",
       "    .dataframe thead th {\n",
       "        text-align: right;\n",
       "    }\n",
       "</style>\n",
       "<table border=\"1\" class=\"dataframe\">\n",
       "  <thead>\n",
       "    <tr style=\"text-align: right;\">\n",
       "      <th></th>\n",
       "      <th>TransactionAmount (INR)</th>\n",
       "      <th>CustAccountBalance</th>\n",
       "      <th>CustomerAge</th>\n",
       "    </tr>\n",
       "  </thead>\n",
       "  <tbody>\n",
       "    <tr>\n",
       "      <th>count</th>\n",
       "      <td>1.041764e+06</td>\n",
       "      <td>1.041764e+06</td>\n",
       "      <td>1.041764e+06</td>\n",
       "    </tr>\n",
       "    <tr>\n",
       "      <th>mean</th>\n",
       "      <td>-9.710109e-17</td>\n",
       "      <td>7.761812e-18</td>\n",
       "      <td>9.084662e-17</td>\n",
       "    </tr>\n",
       "    <tr>\n",
       "      <th>std</th>\n",
       "      <td>1.000000e+00</td>\n",
       "      <td>1.000000e+00</td>\n",
       "      <td>1.000000e+00</td>\n",
       "    </tr>\n",
       "    <tr>\n",
       "      <th>min</th>\n",
       "      <td>-2.386930e-01</td>\n",
       "      <td>-1.358157e-01</td>\n",
       "      <td>-1.766617e+00</td>\n",
       "    </tr>\n",
       "    <tr>\n",
       "      <th>25%</th>\n",
       "      <td>-2.143066e-01</td>\n",
       "      <td>-1.302330e-01</td>\n",
       "      <td>-1.381799e-01</td>\n",
       "    </tr>\n",
       "    <tr>\n",
       "      <th>50%</th>\n",
       "      <td>-1.689646e-01</td>\n",
       "      <td>-1.160100e-01</td>\n",
       "      <td>-5.874400e-02</td>\n",
       "    </tr>\n",
       "    <tr>\n",
       "      <th>75%</th>\n",
       "      <td>-5.579492e-02</td>\n",
       "      <td>-6.797969e-02</td>\n",
       "      <td>4.055092e-02</td>\n",
       "    </tr>\n",
       "    <tr>\n",
       "      <th>max</th>\n",
       "      <td>2.375341e+02</td>\n",
       "      <td>1.357274e+02</td>\n",
       "      <td>3.674745e+00</td>\n",
       "    </tr>\n",
       "  </tbody>\n",
       "</table>\n",
       "</div>"
      ],
      "text/plain": [
       "       TransactionAmount (INR)  CustAccountBalance   CustomerAge\n",
       "count             1.041764e+06        1.041764e+06  1.041764e+06\n",
       "mean             -9.710109e-17        7.761812e-18  9.084662e-17\n",
       "std               1.000000e+00        1.000000e+00  1.000000e+00\n",
       "min              -2.386930e-01       -1.358157e-01 -1.766617e+00\n",
       "25%              -2.143066e-01       -1.302330e-01 -1.381799e-01\n",
       "50%              -1.689646e-01       -1.160100e-01 -5.874400e-02\n",
       "75%              -5.579492e-02       -6.797969e-02  4.055092e-02\n",
       "max               2.375341e+02        1.357274e+02  3.674745e+00"
      ]
     },
     "execution_count": 17,
     "metadata": {},
     "output_type": "execute_result"
    }
   ],
   "source": [
    "# verify that normalized features have a mean close to 0\n",
    "# and a standard deviation close to 1\n",
    "data[features_to_normalize].describe()"
   ]
  },
  {
   "cell_type": "markdown",
   "id": "e25ca0e2",
   "metadata": {},
   "source": [
    "### Encode categorical data"
   ]
  },
  {
   "cell_type": "code",
   "execution_count": 18,
   "id": "1b801f48",
   "metadata": {},
   "outputs": [],
   "source": [
    "from sklearn.preprocessing import OneHotEncoder\n",
    "\n",
    "encoder = OneHotEncoder(sparse=True)  # Keep the result sparse\n",
    "categorical_features = ['CustGender', 'CustLocation']\n",
    "\n",
    "# Apply the encoder\n",
    "encoded_cats = encoder.fit_transform(data[categorical_features])\n",
    "\n",
    "# do not convert the sparse matrix to dense form\n",
    "X_sparse = encoded_cats\n",
    "\n",
    "# Concatenate sparse matrix with the original dataframe\n",
    "data = pd.concat([data.reset_index(drop=True), pd.DataFrame.sparse.from_spmatrix(encoded_cats)], axis=1)\n",
    "data.drop(categorical_features, axis=1, inplace=True)\n"
   ]
  },
  {
   "cell_type": "markdown",
   "id": "004af15e",
   "metadata": {},
   "source": [
    "# Modeling\n",
    "- Use K-Means as the main clustering algorithm.\n",
    "    - Determine the best number of clusters (K) for your segmentation task using the Elbow Method.\n",
    "    - The Elbow Method helps to determine the optimal number of clusters by plotting the inertia (sum of squared distances of samples to their closest cluster center) for different values of K."
   ]
  },
  {
   "cell_type": "code",
   "execution_count": 20,
   "id": "178199c4",
   "metadata": {
    "scrolled": false
   },
   "outputs": [
    {
     "data": {
      "image/png": "[encoded data removed]",
      "text/plain": [
       "<Figure size 800x600 with 1 Axes>"
      ]
     },
     "metadata": {},
     "output_type": "display_data"
    }
   ],
   "source": [
    "from sklearn.cluster import KMeans\n",
    "import matplotlib.pyplot as plt\n",
    "\n",
    "# Now apply KMeans to the sparse data\n",
    "inertia = []\n",
    "range_n_clusters = range(2, 11)  # Let's try from 2 to 10 clusters\n",
    "\n",
    "# Try different numbers of clusters\n",
    "for n_clusters in range_n_clusters:\n",
    "    kmeans = KMeans(n_clusters=n_clusters, random_state=42)\n",
    "    kmeans.fit(X_sparse)  # Fit the model on the sparse matrix\n",
    "    inertia.append(kmeans.inertia_)  # Append inertia to the list\n",
    "\n",
    "# Plot the Elbow graph to identify the optimal number of clusters\n",
    "plt.figure(figsize=(8, 6))\n",
    "plt.plot(range_n_clusters, inertia, marker='o')\n",
    "plt.title('Elbow Method For Optimal k')\n",
    "plt.xlabel('Number of clusters (K)')\n",
    "plt.ylabel('Inertia')\n",
    "plt.show()\n"
   ]
  },
  {
   "cell_type": "code",
   "execution_count": null,
   "id": "a7dd6212",
   "metadata": {},
   "outputs": [],
   "source": [
    "from sklearn.metrics import silhouette_score\n",
    "\n",
    "silhouette_scores = []\n",
    "for n_clusters in range_n_clusters:\n",
    "    kmeans = KMeans(n_clusters=n_clusters, random_state=42)\n",
    "    cluster_labels = kmeans.fit_predict(X_sparse)\n",
    "    silhouette_avg = silhouette_score(X_sparse, cluster_labels)\n",
    "    silhouette_scores.append(silhouette_avg)\n",
    "\n",
    "# find the k value with the highest Silhouette Score\n",
    "optimal_k = range_n_clusters[np.argmax(silhouette_scores)]"
   ]
  },
  {
   "cell_type": "code",
   "execution_count": null,
   "id": "b7e80131",
   "metadata": {},
   "outputs": [],
   "source": []
  }
 ],
 "metadata": {
  "kernelspec": {
   "display_name": "Python 3 (ipykernel)",
   "language": "python",
   "name": "python3"
  },
  "language_info": {
   "codemirror_mode": {
    "name": "ipython",
    "version": 3
   },
   "file_extension": ".py",
   "mimetype": "text/x-python",
   "name": "python",
   "nbconvert_exporter": "python",
   "pygments_lexer": "ipython3",
   "version": "3.11.4"
  }
 },
 "nbformat": 4,
 "nbformat_minor": 5
}
