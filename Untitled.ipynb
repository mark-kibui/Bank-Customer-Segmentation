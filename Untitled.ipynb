{
 "cells": [
  {
   "cell_type": "code",
   "execution_count": 1,
   "id": "266afb77",
   "metadata": {},
   "outputs": [],
   "source": [
    "import pandas as pd"
   ]
  },
  {
   "cell_type": "code",
   "execution_count": 2,
   "id": "703e6c4b",
   "metadata": {},
   "outputs": [
    {
     "data": {
      "text/html": [
       "<div>\n",
       "<style scoped>\n",
       "    .dataframe tbody tr th:only-of-type {\n",
       "        vertical-align: middle;\n",
       "    }\n",
       "\n",
       "    .dataframe tbody tr th {\n",
       "        vertical-align: top;\n",
       "    }\n",
       "\n",
       "    .dataframe thead th {\n",
       "        text-align: right;\n",
       "    }\n",
       "</style>\n",
       "<table border=\"1\" class=\"dataframe\">\n",
       "  <thead>\n",
       "    <tr style=\"text-align: right;\">\n",
       "      <th></th>\n",
       "      <th>TransactionID</th>\n",
       "      <th>CustomerID</th>\n",
       "      <th>CustomerDOB</th>\n",
       "      <th>CustGender</th>\n",
       "      <th>CustLocation</th>\n",
       "      <th>CustAccountBalance</th>\n",
       "      <th>TransactionDate</th>\n",
       "      <th>TransactionTime</th>\n",
       "      <th>TransactionAmount (INR)</th>\n",
       "    </tr>\n",
       "  </thead>\n",
       "  <tbody>\n",
       "    <tr>\n",
       "      <th>73349</th>\n",
       "      <td>T73350</td>\n",
       "      <td>C4932573</td>\n",
       "      <td>21/4/89</td>\n",
       "      <td>M</td>\n",
       "      <td>BANGALORE</td>\n",
       "      <td>4145.44</td>\n",
       "      <td>2/8/16</td>\n",
       "      <td>164342</td>\n",
       "      <td>220.00</td>\n",
       "    </tr>\n",
       "    <tr>\n",
       "      <th>615709</th>\n",
       "      <td>T615710</td>\n",
       "      <td>C7117250</td>\n",
       "      <td>26/12/86</td>\n",
       "      <td>M</td>\n",
       "      <td>THANE</td>\n",
       "      <td>127207.40</td>\n",
       "      <td>22/8/16</td>\n",
       "      <td>231608</td>\n",
       "      <td>809.20</td>\n",
       "    </tr>\n",
       "    <tr>\n",
       "      <th>236014</th>\n",
       "      <td>T236015</td>\n",
       "      <td>C1738790</td>\n",
       "      <td>10/1/80</td>\n",
       "      <td>M</td>\n",
       "      <td>NEW DELHI</td>\n",
       "      <td>8144.03</td>\n",
       "      <td>7/8/16</td>\n",
       "      <td>130636</td>\n",
       "      <td>1414.86</td>\n",
       "    </tr>\n",
       "    <tr>\n",
       "      <th>35592</th>\n",
       "      <td>T35593</td>\n",
       "      <td>C2169484</td>\n",
       "      <td>20/11/89</td>\n",
       "      <td>F</td>\n",
       "      <td>MUMBAI</td>\n",
       "      <td>5616.34</td>\n",
       "      <td>30/9/16</td>\n",
       "      <td>144555</td>\n",
       "      <td>189.87</td>\n",
       "    </tr>\n",
       "    <tr>\n",
       "      <th>357847</th>\n",
       "      <td>T357848</td>\n",
       "      <td>C6141526</td>\n",
       "      <td>20/8/87</td>\n",
       "      <td>F</td>\n",
       "      <td>HYDERABAD</td>\n",
       "      <td>30735.19</td>\n",
       "      <td>14/8/16</td>\n",
       "      <td>203728</td>\n",
       "      <td>2403.00</td>\n",
       "    </tr>\n",
       "  </tbody>\n",
       "</table>\n",
       "</div>"
      ],
      "text/plain": [
       "       TransactionID CustomerID CustomerDOB CustGender CustLocation  \\\n",
       "73349         T73350   C4932573     21/4/89          M    BANGALORE   \n",
       "615709       T615710   C7117250    26/12/86          M        THANE   \n",
       "236014       T236015   C1738790     10/1/80          M    NEW DELHI   \n",
       "35592         T35593   C2169484    20/11/89          F       MUMBAI   \n",
       "357847       T357848   C6141526     20/8/87          F    HYDERABAD   \n",
       "\n",
       "        CustAccountBalance TransactionDate  TransactionTime  \\\n",
       "73349              4145.44          2/8/16           164342   \n",
       "615709           127207.40         22/8/16           231608   \n",
       "236014             8144.03          7/8/16           130636   \n",
       "35592              5616.34         30/9/16           144555   \n",
       "357847            30735.19         14/8/16           203728   \n",
       "\n",
       "        TransactionAmount (INR)  \n",
       "73349                    220.00  \n",
       "615709                   809.20  \n",
       "236014                  1414.86  \n",
       "35592                    189.87  \n",
       "357847                  2403.00  "
      ]
     },
     "execution_count": 2,
     "metadata": {},
     "output_type": "execute_result"
    }
   ],
   "source": [
    "# load data and view 5 random rows\n",
    "df = pd.read_csv('bank_transactions.csv')\n",
    "df.sample(5)"
   ]
  },
  {
   "cell_type": "code",
   "execution_count": 3,
   "id": "3f01f778",
   "metadata": {},
   "outputs": [
    {
     "name": "stdout",
     "output_type": "stream",
     "text": [
      "<class 'pandas.core.frame.DataFrame'>\n",
      "RangeIndex: 1048567 entries, 0 to 1048566\n",
      "Data columns (total 9 columns):\n",
      " #   Column                   Non-Null Count    Dtype  \n",
      "---  ------                   --------------    -----  \n",
      " 0   TransactionID            1048567 non-null  object \n",
      " 1   CustomerID               1048567 non-null  object \n",
      " 2   CustomerDOB              1045170 non-null  object \n",
      " 3   CustGender               1047467 non-null  object \n",
      " 4   CustLocation             1048416 non-null  object \n",
      " 5   CustAccountBalance       1046198 non-null  float64\n",
      " 6   TransactionDate          1048567 non-null  object \n",
      " 7   TransactionTime          1048567 non-null  int64  \n",
      " 8   TransactionAmount (INR)  1048567 non-null  float64\n",
      "dtypes: float64(2), int64(1), object(6)\n",
      "memory usage: 72.0+ MB\n"
     ]
    }
   ],
   "source": [
    "df.info()"
   ]
  },
  {
   "cell_type": "code",
   "execution_count": 4,
   "id": "166b0f0f",
   "metadata": {},
   "outputs": [],
   "source": [
    "import pandas as pd\n",
    "\n",
    "# Sample 40,000 rows from the DataFrame and save to a new CSV file\n",
    "pd.read_csv(\"bank_transactions.csv\").sample(n=40000, random_state=42).to_csv(\"40k_bank_transactions.csv\", index=False)"
   ]
  },
  {
   "cell_type": "code",
   "execution_count": 5,
   "id": "5e4796c0",
   "metadata": {},
   "outputs": [
    {
     "name": "stdout",
     "output_type": "stream",
     "text": [
      "<class 'pandas.core.frame.DataFrame'>\n",
      "RangeIndex: 40000 entries, 0 to 39999\n",
      "Data columns (total 9 columns):\n",
      " #   Column                   Non-Null Count  Dtype  \n",
      "---  ------                   --------------  -----  \n",
      " 0   TransactionID            40000 non-null  object \n",
      " 1   CustomerID               40000 non-null  object \n",
      " 2   CustomerDOB              39867 non-null  object \n",
      " 3   CustGender               39956 non-null  object \n",
      " 4   CustLocation             39997 non-null  object \n",
      " 5   CustAccountBalance       39901 non-null  float64\n",
      " 6   TransactionDate          40000 non-null  object \n",
      " 7   TransactionTime          40000 non-null  int64  \n",
      " 8   TransactionAmount (INR)  40000 non-null  float64\n",
      "dtypes: float64(2), int64(1), object(6)\n",
      "memory usage: 2.7+ MB\n"
     ]
    }
   ],
   "source": [
    "df = pd.read_csv('40k_bank_transactions.csv')\n",
    "df.info()"
   ]
  },
  {
   "cell_type": "code",
   "execution_count": null,
   "id": "8ca77e99",
   "metadata": {},
   "outputs": [],
   "source": []
  }
 ],
 "metadata": {
  "kernelspec": {
   "display_name": "Python 3 (ipykernel)",
   "language": "python",
   "name": "python3"
  },
  "language_info": {
   "codemirror_mode": {
    "name": "ipython",
    "version": 3
   },
   "file_extension": ".py",
   "mimetype": "text/x-python",
   "name": "python",
   "nbconvert_exporter": "python",
   "pygments_lexer": "ipython3",
   "version": "3.11.4"
  }
 },
 "nbformat": 4,
 "nbformat_minor": 5
}
